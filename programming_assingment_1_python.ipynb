{
 "cells": [
  {
   "cell_type": "markdown",
   "id": "89347f18",
   "metadata": {},
   "source": [
    "# <B>Assignment 1  python programming Solutions"
   ]
  },
  {
   "cell_type": "markdown",
   "id": "a7cd462c",
   "metadata": {},
   "source": [
    "<b>1.Write a Python program to print 'Hello Python' ?"
   ]
  },
  {
   "cell_type": "code",
   "execution_count": 1,
   "id": "e9f28731",
   "metadata": {},
   "outputs": [
    {
     "name": "stdout",
     "output_type": "stream",
     "text": [
      "hello world\n"
     ]
    }
   ],
   "source": [
    "print(\"hello world\")"
   ]
  },
  {
   "cell_type": "markdown",
   "id": "6c16fc5d",
   "metadata": {},
   "source": [
    "<b>2.Write a Python program to do arithmetic operations addition and division ?"
   ]
  },
  {
   "cell_type": "code",
   "execution_count": 3,
   "id": "9014ca8e",
   "metadata": {},
   "outputs": [
    {
     "name": "stdout",
     "output_type": "stream",
     "text": [
      "enter the first element2\n",
      "enter the second element3\n",
      "addition result of first and second element 5\n",
      "division of first and second element 0.6666666666666666\n"
     ]
    }
   ],
   "source": [
    "val=int(input('enter the first element'))\n",
    "val1=int(input(\"enter the second element\"))\n",
    "addition=val+val1\n",
    "division=val/val1\n",
    "print(\"addition result of first and second element\",addition)\n",
    "print(\"division of first and second element\",division)"
   ]
  },
  {
   "cell_type": "markdown",
   "id": "e095c744",
   "metadata": {},
   "source": [
    "<b>3.Write a Python program to find the area of a triangle ?"
   ]
  },
  {
   "cell_type": "code",
   "execution_count": 5,
   "id": "b59b4455",
   "metadata": {},
   "outputs": [
    {
     "name": "stdout",
     "output_type": "stream",
     "text": [
      "enter the height of triangle10\n",
      "enter the base of triangle 5\n",
      "\n",
      "Area of triangle -> 25.0\n"
     ]
    }
   ],
   "source": [
    "height=int(input(\"enter the height of triangle\"))\n",
    "base=int(input(\"enter the base of triangle \"))\n",
    "def area(height, base):\n",
    "    print('\\nArea of triangle ->', 0.5*height*base)\n",
    "\n",
    "area(height,base)"
   ]
  },
  {
   "cell_type": "markdown",
   "id": "a0d5ab66",
   "metadata": {},
   "source": [
    "<b>4.Write a Python program to swap two variables ?"
   ]
  },
  {
   "cell_type": "code",
   "execution_count": 9,
   "id": "db63cbd4",
   "metadata": {},
   "outputs": [
    {
     "name": "stdout",
     "output_type": "stream",
     "text": [
      "Enter First Number: 5\n",
      "Enter Second Number: 6\n",
      "Before swapping -------  5 6\n",
      "After swapping --------  6 5\n"
     ]
    }
   ],
   "source": [
    "num1 = int(input(\"Enter First Number: \"))\n",
    "num2 = int(input(\"Enter Second Number: \"))\n",
    "\n",
    "def swap(a,b):\n",
    "    temp = a\n",
    "    a = b\n",
    "    b = temp\n",
    "    return a,b\n",
    "\n",
    "print('Before swapping ------- ',num1, num2)\n",
    "num1, num2 = swap(num1, num2)\n",
    "print('After swapping -------- ',num1,num2)\n"
   ]
  },
  {
   "cell_type": "markdown",
   "id": "2d80e65e",
   "metadata": {},
   "source": [
    "<b>5.Write a Python program to generate a random number ?"
   ]
  },
  {
   "cell_type": "code",
   "execution_count": 12,
   "id": "ceaa7e23",
   "metadata": {},
   "outputs": [
    {
     "name": "stdout",
     "output_type": "stream",
     "text": [
      "0.22233281200701194\n"
     ]
    }
   ],
   "source": [
    "import random\n",
    "n = random.random()\n",
    "print(n)\n",
    "\n",
    "   \n"
   ]
  },
  {
   "cell_type": "code",
   "execution_count": null,
   "id": "627df5ed",
   "metadata": {},
   "outputs": [],
   "source": []
  }
 ],
 "metadata": {
  "kernelspec": {
   "display_name": "Python 3 (ipykernel)",
   "language": "python",
   "name": "python3"
  },
  "language_info": {
   "codemirror_mode": {
    "name": "ipython",
    "version": 3
   },
   "file_extension": ".py",
   "mimetype": "text/x-python",
   "name": "python",
   "nbconvert_exporter": "python",
   "pygments_lexer": "ipython3",
   "version": "3.9.7"
  }
 },
 "nbformat": 4,
 "nbformat_minor": 5
}
